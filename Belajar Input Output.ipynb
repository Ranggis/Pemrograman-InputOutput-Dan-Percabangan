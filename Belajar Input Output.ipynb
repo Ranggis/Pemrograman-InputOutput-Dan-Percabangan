{
 "cells": [
  {
   "cell_type": "code",
   "execution_count": 2,
   "id": "7af7ff28",
   "metadata": {},
   "outputs": [
    {
     "name": "stdout",
     "output_type": "stream",
     "text": [
      "isikan nama awalM\n",
      "isikan nama tengahRANGGIS\n",
      "isikan nama akhirREFALDI\n",
      "Selamat Datang M RANGGIS REFALDI S.Kom\n"
     ]
    }
   ],
   "source": [
    "fname = input('isikan nama awal')\n",
    "mname = input('isikan nama tengah')\n",
    "lname = input('isikan nama akhir')\n",
    "    \n",
    "print('Selamat Datang',fname,mname,lname,\"S.Kom\")"
   ]
  },
  {
   "cell_type": "code",
   "execution_count": 3,
   "id": "71cb5d98",
   "metadata": {},
   "outputs": [
    {
     "name": "stdout",
     "output_type": "stream",
     "text": [
      "isikan bilangan 110\n",
      "isikan bilangan 220\n",
      "<class 'str'>\n",
      "hasil penjumlahan 30\n"
     ]
    }
   ],
   "source": [
    "bil1 = input('isikan bilangan 1')\n",
    "bil2 = input('isikan bilangan 2')\n",
    "print(type(bil1))\n",
    "hasil = int(bil1)+int(bil2)\n",
    "print('hasil penjumlahan',hasil)"
   ]
  },
  {
   "cell_type": "code",
   "execution_count": 8,
   "id": "fec3a285",
   "metadata": {},
   "outputs": [
    {
     "name": "stdout",
     "output_type": "stream",
     "text": [
      "Panjang100\n",
      "Lebar20\n",
      "<class 'str'>\n",
      "Luas Persegi Panjang 2000 cm\n",
      "Keliling Persegi Panjang = 220 cm\n"
     ]
    }
   ],
   "source": [
    "bil1 = input('Panjang')\n",
    "bil2 = input('Lebar')\n",
    "print(type(bil1))\n",
    "hasil1 = int(bil1)*int(bil2)\n",
    "print('Luas Persegi Panjang',hasil1,\"cm\")\n",
    "hasil2 = 2*(int(bil1)) + (int(bil2))\n",
    "print('Keliling Persegi Panjang =',hasil2,\"cm\")"
   ]
  },
  {
   "cell_type": "code",
   "execution_count": 10,
   "id": "41c9c4e9",
   "metadata": {},
   "outputs": [
    {
     "name": "stdout",
     "output_type": "stream",
     "text": [
      "isikan panjang persegi20\n",
      "isikan lebar persegi30\n",
      "Luas Persegi Panjang 600\n",
      "Keliling Persegi Panjang 100\n"
     ]
    }
   ],
   "source": [
    "p = input('isikan panjang persegi')\n",
    "l = input('isikan lebar persegi')\n",
    "\n",
    "Luas = int(p)*int(l)\n",
    "Keliling = 2*(int(p) + int(l))\n",
    "\n",
    "print('Luas Persegi Panjang',Luas)\n",
    "print('Keliling Persegi Panjang',Keliling)"
   ]
  },
  {
   "cell_type": "code",
   "execution_count": 35,
   "id": "82189ce3",
   "metadata": {},
   "outputs": [
    {
     "name": "stdout",
     "output_type": "stream",
     "text": [
      "Januari@Febuari@MAret@April@Mei##"
     ]
    }
   ],
   "source": [
    "print (\"Januari\", \"Febuari\",\"MAret\",\"April\",\"Mei\",sep=\"@\",end=\"#\"*2)"
   ]
  },
  {
   "cell_type": "code",
   "execution_count": 37,
   "id": "cd20947c",
   "metadata": {},
   "outputs": [
    {
     "name": "stdout",
     "output_type": "stream",
     "text": [
      "Senin Selasa Rabu Kamis Jumat Sabtu Minggu\n",
      "One\n",
      "Two\n",
      "Three\n",
      "Four\n"
     ]
    }
   ],
   "source": [
    "print(\"Senin\",\"Selasa\",\"Rabu\",\"Kamis\",\"Jumat\",\"Sabtu\",\"Minggu\",sep=\" \",end=\"\\n\")\n",
    "print(\"One\",\"Two\",\"Three\",\"Four\",sep=\"\\n\")"
   ]
  },
  {
   "cell_type": "code",
   "execution_count": 22,
   "id": "dc762b8b",
   "metadata": {},
   "outputs": [
    {
     "name": "stdout",
     "output_type": "stream",
     "text": [
      "perkalian 7 dengan 10 adalah 70\n"
     ]
    }
   ],
   "source": [
    "number1 = 7\n",
    "number2 = 10\n",
    "\n",
    "#hasil perkalian 7 dan 10 adalah 70\n",
    "print(\"perkalian {} dengan {} adalah {}\". format(number1,number2,number1*number2))"
   ]
  },
  {
   "cell_type": "code",
   "execution_count": 30,
   "id": "a7bcb02f",
   "metadata": {},
   "outputs": [
    {
     "name": "stdout",
     "output_type": "stream",
     "text": [
      "urutan huruf ABC\n"
     ]
    }
   ],
   "source": [
    "first_letter = \"A\"\n",
    "midle_letter = \"B\"\n",
    "last_letter = \"C\"\n",
    "print(\"urutan huruf {0}{1}{2}\".format(first_letter,midle_letter,last_letter))"
   ]
  },
  {
   "cell_type": "code",
   "execution_count": 34,
   "id": "a2d1d070",
   "metadata": {},
   "outputs": [
    {
     "name": "stdout",
     "output_type": "stream",
     "text": [
      "sekarang tanggal 24 bulan Juni tahun 2024 \n"
     ]
    }
   ],
   "source": [
    "#sekarang tanggal 24 bulan Juni 2024\n",
    "print(\"sekarang tanggal {tanggal} bulan {bulan} tahun {tahun} \". format(tanggal = 24, bulan = \"Juni\", tahun = 2024))"
   ]
  },
  {
   "cell_type": "code",
   "execution_count": 49,
   "id": "68f7ee09",
   "metadata": {},
   "outputs": [
    {
     "name": "stdout",
     "output_type": "stream",
     "text": [
      "huruf pertama adalah U\n",
      "huruf terakhir adalah a\n",
      "huruf range 0-10 Universitas\n",
      "Putra\n",
      "Nusa Putra\n",
      "artuP asuN satisrevinU\n"
     ]
    }
   ],
   "source": [
    "Kampus = \"Universitas Nusa Putra\"\n",
    "print(\"huruf pertama adalah\",Kampus[0])\n",
    "print(\"huruf terakhir adalah\",Kampus[-1])\n",
    "print(\"huruf range 0-10\",Kampus[0:11])\n",
    "print(kampus[-5:])\n",
    "print(kampus[12:])\n",
    "#reverse string\n",
    "print(kampus[::-1])"
   ]
  },
  {
   "cell_type": "code",
   "execution_count": 56,
   "id": "27705799",
   "metadata": {},
   "outputs": [
    {
     "name": "stdout",
     "output_type": "stream",
     "text": [
      "['Jakarta', 'Sukabumi', 'Malang', 'Bandung', 'Surabaya']\n",
      "Jakarta\n",
      "Jakarta Sukabumi Malang Bandung Surabaya\n"
     ]
    }
   ],
   "source": [
    "#split => Sting => LIst\n",
    "kota = \"Jakarta Sukabumi Malang Bandung Surabaya\"\n",
    "list_kota = kota.split( )\n",
    "print(list_kota)\n",
    "print(list_kota[0])\n",
    "#join => List => String\n",
    "join_kota = \"@\". join(list_kota)\n",
    "print(join_kota)"
   ]
  },
  {
   "cell_type": "code",
   "execution_count": 6,
   "id": "e5edd22e",
   "metadata": {},
   "outputs": [
    {
     "name": "stdout",
     "output_type": "stream",
     "text": [
      "isikan nama andaM sksd\n",
      "isikan tanggal lahir19/2/2992\n",
      "Nama Awal: M\n",
      "Nama Akhir: sksd\n",
      "bulan lahir: Februari\n",
      "tanggal lahir: 19\n",
      "tahun lahir: 2992\n",
      "nama inisial: Ms\n"
     ]
    }
   ],
   "source": [
    "# isikan nama anda : bill gates\n",
    "# isikan tanggal lahir : 18/12/2022\n",
    "# output :\n",
    "# nama awal : bill gates\n",
    "# tanggal lahir : 18\n",
    "# bulan lahir : 12\n",
    "# tahun lahir : 2022\n",
    "# nama inisial : BG\n",
    "\n",
    "nama = input('isikan nama anda')\n",
    "tanggal = input('isikan tanggal lahir')\n",
    "\n",
    "list_nama = (nama.split())\n",
    "print(\"Nama Awal:\",list_nama[0])\n",
    "print(\"Nama Akhir:\",list_nama[1])\n",
    "\n",
    "list_tanggal = tanggal.split(\"/\")\n",
    "if list_tanggal[1]==\"01\":\n",
    "    keterangan = \"Januari\"\n",
    "elif list_tanggal[1]==\"02\":\n",
    "    keterangan = \"Februari\"\n",
    "elif list_tanggal[1]==\"03\":\n",
    "    keterangan = \"Maret\"\n",
    "elif list_tanggal[1]==\"04\":\n",
    "    keterangan = \"April\"\n",
    "elif list_tanggal[1]==\"05\":\n",
    "    keterangan = \"Mei\"\n",
    "elif list_tanggal[1]==\"06\":\n",
    "    keterangan = \"Juni\"\n",
    "elif list_tanggal[1]==\"07\":\n",
    "    keterangan = \"Juli\"\n",
    "elif list_tanggal[1]==\"08\":\n",
    "    keterangan = \"Agustus\"\n",
    "elif list_tanggal[1]==\"09\":\n",
    "    Keterangan = \"September\"\n",
    "elif list_tanggal[1]==\"10\":\n",
    "    Keterangan =\"Oktober\"\n",
    "elif list_tanggal[1]==\"11\":\n",
    "    Keterangan =\"November\"\n",
    "elif list_tanggal[1]==\"12\":\n",
    "    Keterangan =\"Desember\"\n",
    "\n",
    "print(\"bulan lahir:\", keterangan)\n",
    "print(\"tanggal lahir:\", list_tanggal[0])\n",
    "print(\"tahun lahir:\", list_tanggal[2])\n",
    "\n",
    "inisial = list_nama[0][0] + list_nama[1][0]\n",
    "print(\"nama inisial:\", inisial)"
   ]
  },
  {
   "cell_type": "code",
   "execution_count": null,
   "id": "fabdfc2a",
   "metadata": {},
   "outputs": [],
   "source": []
  },
  {
   "cell_type": "code",
   "execution_count": null,
   "id": "ef238525",
   "metadata": {},
   "outputs": [],
   "source": []
  }
 ],
 "metadata": {
  "kernelspec": {
   "display_name": "Python 3 (ipykernel)",
   "language": "python",
   "name": "python3"
  },
  "language_info": {
   "codemirror_mode": {
    "name": "ipython",
    "version": 3
   },
   "file_extension": ".py",
   "mimetype": "text/x-python",
   "name": "python",
   "nbconvert_exporter": "python",
   "pygments_lexer": "ipython3",
   "version": "3.9.12"
  }
 },
 "nbformat": 4,
 "nbformat_minor": 5
}
