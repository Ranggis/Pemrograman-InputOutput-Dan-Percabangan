{
 "cells": [
  {
   "cell_type": "code",
   "execution_count": 12,
   "id": "00558625",
   "metadata": {},
   "outputs": [
    {
     "name": "stdout",
     "output_type": "stream",
     "text": [
      "isikan bilangan10\n",
      "10 adalah bilangan genap\n"
     ]
    }
   ],
   "source": [
    "nilai = int(input(\"isikan bilangan\"))\n",
    "sisa = nilai%2\n",
    "\n",
    "if sisa ==0:\n",
    "    print(nilai,\"adalah bilangan genap\")\n",
    "else:\n",
    "    print(f\"{nilai}adalah bilangan ganjil\")"
   ]
  },
  {
   "cell_type": "code",
   "execution_count": 18,
   "id": "935ad882",
   "metadata": {},
   "outputs": [
    {
     "name": "stdout",
     "output_type": "stream",
     "text": [
      "isikan nilai pemrograman mahasiswa:50\n",
      "Nilai Huruf Mahsiswa: D\n"
     ]
    }
   ],
   "source": [
    "# 0 - 49 => E\n",
    "# 50 - 59 => D\n",
    "# 60 - 69 => C\n",
    "# 70 - 84 => B\n",
    "# 85 - 100 => A\n",
    "\n",
    "nilai_mhs = int(input('isikan nilai pemrograman mahasiswa:'))\n",
    "keterangan=\"\"\n",
    "if nilai_mhs >=0 and nilai_mhs < 50:\n",
    "    keterangan =\"E\"\n",
    "elif nilai_mhs >=50 and nilai_mhs <60:\n",
    "    keterangan =\"D\"\n",
    "elif nilai_mhs >=60 and nilai_mhs <70:\n",
    "    keterangan =\"C\"\n",
    "elif nilai_mhs >=70 and nilai_mhs <84:\n",
    "    keterangan =\"B\"\n",
    "elif nilai_mhs >=84 and nilai_mhs <100:\n",
    "    keterangan =\"A\"\n",
    "\n",
    "print(\"Nilai Huruf Mahsiswa:\", keterangan)\n"
   ]
  },
  {
   "cell_type": "code",
   "execution_count": null,
   "id": "607ea9bc",
   "metadata": {},
   "outputs": [],
   "source": []
  }
 ],
 "metadata": {
  "kernelspec": {
   "display_name": "Python 3 (ipykernel)",
   "language": "python",
   "name": "python3"
  },
  "language_info": {
   "codemirror_mode": {
    "name": "ipython",
    "version": 3
   },
   "file_extension": ".py",
   "mimetype": "text/x-python",
   "name": "python",
   "nbconvert_exporter": "python",
   "pygments_lexer": "ipython3",
   "version": "3.9.12"
  }
 },
 "nbformat": 4,
 "nbformat_minor": 5
}
